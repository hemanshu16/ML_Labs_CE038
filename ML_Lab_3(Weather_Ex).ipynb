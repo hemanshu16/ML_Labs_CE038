{
  "nbformat": 4,
  "nbformat_minor": 0,
  "metadata": {
    "colab": {
      "provenance": [],
      "include_colab_link": true
    },
    "kernelspec": {
      "name": "python3",
      "display_name": "Python 3"
    },
    "language_info": {
      "name": "python"
    }
  },
  "cells": [
    {
      "cell_type": "markdown",
      "metadata": {
        "id": "view-in-github",
        "colab_type": "text"
      },
      "source": [
        "<a href=\"https://colab.research.google.com/github/hemanshu16/ML_Labs/blob/main/ML_Lab_3(Weather_Ex).ipynb\" target=\"_parent\"><img src=\"https://colab.research.google.com/assets/colab-badge.svg\" alt=\"Open In Colab\"/></a>"
      ]
    },
    {
      "cell_type": "code",
      "execution_count": 1,
      "metadata": {
        "id": "wH7AQIBmskjW"
      },
      "outputs": [],
      "source": [
        "from sklearn import preprocessing\n",
        "from sklearn.naive_bayes import CategoricalNB"
      ]
    },
    {
      "cell_type": "code",
      "source": [
        "weather = ['Sunny', 'Sunny', 'Overcast', 'Rainy', 'Rainy','Rainy', 'Overcast',\n",
        "'Sunny', 'Sunny', 'Rainy', 'Sunny', 'Overcast', 'Overcast', 'Rainy']\n",
        "\n",
        "temp = ['Hot','Hot','Hot','Mild','Cool','Cool','Cool','Mild',\n",
        "'Cool','Mild','Mild','Mild','Hot','Mild']\n",
        "\n",
        "play=['No','No','Yes','Yes','Yes','No','Yes','No','Yes',\n",
        "'Yes','Yes','Yes','Yes','No']"
      ],
      "metadata": {
        "id": "1axNmmf9s90A"
      },
      "execution_count": 2,
      "outputs": []
    },
    {
      "cell_type": "code",
      "source": [
        "encoder = preprocessing.LabelEncoder()\n",
        "\n",
        "weatherEn = encoder.fit_transform(weather)\n",
        "tempEn = encoder.fit_transform(temp)\n",
        "label = encoder.fit_transform(play)\n",
        "\n",
        "print(weatherEn, tempEn, label)"
      ],
      "metadata": {
        "colab": {
          "base_uri": "https://localhost:8080/"
        },
        "id": "d8x2WnIAtOrQ",
        "outputId": "60cfb538-7b68-42f4-e628-567a335ac824"
      },
      "execution_count": 3,
      "outputs": [
        {
          "output_type": "stream",
          "name": "stdout",
          "text": [
            "[2 2 0 1 1 1 0 2 2 1 2 0 0 1] [1 1 1 2 0 0 0 2 0 2 2 2 1 2] [0 0 1 1 1 0 1 0 1 1 1 1 1 0]\n"
          ]
        }
      ]
    },
    {
      "cell_type": "code",
      "source": [
        "#Combinig weather and temp into single listof tuples\n",
        "features = tuple(zip(weatherEn,tempEn))\n",
        "print(features)"
      ],
      "metadata": {
        "colab": {
          "base_uri": "https://localhost:8080/"
        },
        "id": "MFckAf3utzVo",
        "outputId": "92d86bb8-a358-46d5-ca8e-e250de61b2d8"
      },
      "execution_count": 4,
      "outputs": [
        {
          "output_type": "stream",
          "name": "stdout",
          "text": [
            "((2, 1), (2, 1), (0, 1), (1, 2), (1, 0), (1, 0), (0, 0), (2, 2), (2, 0), (1, 2), (2, 2), (0, 2), (0, 1), (1, 2))\n"
          ]
        }
      ]
    },
    {
      "cell_type": "code",
      "source": [
        "model = CategoricalNB(alpha=0.5).fit(features, label)"
      ],
      "metadata": {
        "id": "6Bigu50Ht8mI"
      },
      "execution_count": 5,
      "outputs": []
    },
    {
      "cell_type": "code",
      "source": [
        "print(model.predict([[0,2]])) # 0:Overcast, 2:Mild\n",
        "print(model.predict_proba([[2, 2]]))"
      ],
      "metadata": {
        "colab": {
          "base_uri": "https://localhost:8080/"
        },
        "id": "cozR2PfKuaVR",
        "outputId": "d2e3d85c-7804-4757-eef0-2af6d7209109"
      },
      "execution_count": 6,
      "outputs": [
        {
          "output_type": "stream",
          "name": "stdout",
          "text": [
            "[1]\n",
            "[[0.52997528 0.47002472]]\n"
          ]
        }
      ]
    },
    {
      "cell_type": "code",
      "source": [
        "# (1) Will you play if the temperature is ‘Hot’ and weather is ‘overcast’?\n",
        "print(model.predict([[0,1]]))\n",
        "# (2) Will you play if the temperature is ‘Mild’ and weather is ‘Sunny’?\n",
        "print(model.predict([[2,2]]))\n"
      ],
      "metadata": {
        "id": "7vQq7TNE8rAv",
        "colab": {
          "base_uri": "https://localhost:8080/"
        },
        "outputId": "b4159cba-d4c4-4d48-9dac-e9ff4a8b71b1"
      },
      "execution_count": 7,
      "outputs": [
        {
          "output_type": "stream",
          "name": "stdout",
          "text": [
            "[1]\n",
            "[0]\n"
          ]
        }
      ]
    }
  ]
}