{
  "nbformat": 4,
  "nbformat_minor": 0,
  "metadata": {
    "colab": {
      "provenance": [],
      "authorship_tag": "ABX9TyOVM8FLHwneKV0kHn2u9Idd",
      "include_colab_link": true
    },
    "kernelspec": {
      "name": "python3",
      "display_name": "Python 3"
    },
    "language_info": {
      "name": "python"
    }
  },
  "cells": [
    {
      "cell_type": "markdown",
      "metadata": {
        "id": "view-in-github",
        "colab_type": "text"
      },
      "source": [
        "<a href=\"https://colab.research.google.com/github/hemanshu16/ML_Labs/blob/main/ML_Lab_4.ipynb\" target=\"_parent\"><img src=\"https://colab.research.google.com/assets/colab-badge.svg\" alt=\"Open In Colab\"/></a>"
      ]
    },
    {
      "cell_type": "code",
      "source": [
        "# import numpy as np\n",
        "# import torch"
      ],
      "metadata": {
        "id": "KUAPBE52g1jr"
      },
      "execution_count": null,
      "outputs": []
    },
    {
      "cell_type": "code",
      "execution_count": null,
      "metadata": {
        "colab": {
          "base_uri": "https://localhost:8080/"
        },
        "id": "1CaBQNEpggaQ",
        "outputId": "befe98f9-08ee-4a11-dcd8-f70a6790d181"
      },
      "outputs": [
        {
          "output_type": "stream",
          "name": "stdout",
          "text": [
            "[81.]\n"
          ]
        }
      ],
      "source": [
        "\n",
        "# # Input (temp, rainfall, humidity)\n",
        "# inputs = np.array([[73, 67, 43],\n",
        "# [91, 88, 64],\n",
        "# [87, 134, 58],\n",
        "# [102, 43, 37],\n",
        "# [69, 96, 70]], dtype='float32')\n",
        "# # Target (apples)\n",
        "# targets = np.array([[56],\n",
        "# [81],\n",
        "# [119],\n",
        "# [22],\n",
        "# [103]], dtype='float32')\n",
        "# print(targets[1])"
      ]
    },
    {
      "cell_type": "code",
      "source": [
        "# inputs = torch.tensor(inputs)\n",
        "# targets = torch.tensor(targets)\n",
        "# weights = torch.tensor(np.array([[0.5],[0.7],[0.5]], dtype='float32'))\n",
        "# print(weights)"
      ],
      "metadata": {
        "id": "z74eMrcxhL9q",
        "colab": {
          "base_uri": "https://localhost:8080/"
        },
        "outputId": "76f3d93e-2a74-489d-8940-7097a84cb03c"
      },
      "execution_count": null,
      "outputs": [
        {
          "output_type": "stream",
          "name": "stdout",
          "text": [
            "tensor([[0.5000],\n",
            "        [0.7000],\n",
            "        [0.5000]])\n"
          ]
        }
      ]
    },
    {
      "cell_type": "code",
      "source": [
        "# second  = torch.matmul(inputs,weights);\n",
        "# biase = torch.tensor(np.array([[0.5],[0.5],[0.5],[0.5],[0.5]], dtype='float32'))\n",
        "# print(second)\n",
        "# print(biase + second)\n",
        "# calculated  = biase+second"
      ],
      "metadata": {
        "colab": {
          "base_uri": "https://localhost:8080/"
        },
        "id": "zRgnM5Izn-4s",
        "outputId": "dc7c09f4-23fe-4cd4-87a6-d0eb5b2994c5"
      },
      "execution_count": null,
      "outputs": [
        {
          "output_type": "stream",
          "name": "stdout",
          "text": [
            "tensor([[104.9000],\n",
            "        [139.1000],\n",
            "        [166.3000],\n",
            "        [ 99.6000],\n",
            "        [136.7000]])\n",
            "tensor([[105.4000],\n",
            "        [139.6000],\n",
            "        [166.8000],\n",
            "        [100.1000],\n",
            "        [137.2000]])\n"
          ]
        }
      ]
    },
    {
      "cell_type": "code",
      "source": [
        "# loss calculation \n",
        "\n",
        "# loss = targets - calculated;\n",
        "# print(loss)\n",
        "# loss_square  = loss.clone();\n",
        "# for i  in range(5) :\n",
        "#   loss_square[i][0] = loss_square[i][0]**2\n",
        "# print(torch.sum(loss_square))\n"
      ],
      "metadata": {
        "colab": {
          "base_uri": "https://localhost:8080/"
        },
        "id": "k0qzWf8DuwK-",
        "outputId": "8b452122-12a5-4149-98fa-24054625be51"
      },
      "execution_count": null,
      "outputs": [
        {
          "output_type": "stream",
          "name": "stdout",
          "text": [
            "tensor([[-49.4000],\n",
            "        [-58.6000],\n",
            "        [-47.8000],\n",
            "        [-78.1000],\n",
            "        [-34.2000]])\n",
            "tensor(15428.4082)\n"
          ]
        }
      ]
    },
    {
      "cell_type": "code",
      "source": [
        "# calculations \n",
        "\n",
        "nweights = [0,0,0]\n",
        "newbiase = biase[0][0] - (0.2*0.5)*torch.sum(torch.mul(targets,0.5))\n",
        "#print( inputs[  :  , 2 : 3])\n",
        "for i in range(3) :\n",
        "  nweights[i] = weights[i] - (0.2*0.5)*torch.sum(inputs[:,i:i+1]*loss)\n",
        "  print((0.2*0.5)*torch.sum(inputs[:,i:i+1]*loss))\n",
        "#weights = nweights\n"
      ],
      "metadata": {
        "colab": {
          "base_uri": "https://localhost:8080/"
        },
        "id": "7MXeK_jSxw-u",
        "outputId": "6b20635c-c78b-4a55-c8eb-fd2934e254ce"
      },
      "execution_count": null,
      "outputs": [
        {
          "output_type": "stream",
          "name": "stdout",
          "text": [
            "tensor(-2342.3398)\n",
            "tensor(-2151.3298)\n",
            "tensor(-1393.0699)\n"
          ]
        }
      ]
    },
    {
      "cell_type": "code",
      "source": [
        "import numpy as np\n",
        "import torch\n",
        "\n",
        "# Input (temp, rainfall, humidity)\n",
        "inputs = np.array([[73, 67, 43],\n",
        "[91, 88, 64],\n",
        "[87, 134, 58],\n",
        "[102, 43, 37],\n",
        "[69, 96, 70]], dtype='float32')\n",
        "# Target (apples)\n",
        "targets = np.array([[56],\n",
        "[81],\n",
        "[119],\n",
        "[22],\n",
        "[103]], dtype='float32')\n",
        "\n",
        "biase_size = 5\n",
        "weights_size = 3 # features\n",
        "m = 5\n",
        "alpha = 0.01\n",
        "\n",
        "inputs = torch.tensor(inputs)\n",
        "targets = torch.tensor(targets)\n",
        "weights = torch.tensor(np.full((weights_size, 1), 1, dtype='float32'))\n",
        "print(weights)\n",
        "\n",
        "biase = torch.tensor( np.full((biase_size, 1), 0.5, dtype='float32'))\n",
        "\n",
        "for j in range(3) :\n",
        "  print(\"\\n\\nno of count :- \",j,\"\\n\")\n",
        "  print(weights)\n",
        "  print(biase)\n",
        "  second  = torch.matmul(inputs,weights)\n",
        "  calculated  = biase+second\n",
        "  print(calculated)\n",
        "\n",
        "\n",
        "  loss = calculated - targets;\n",
        "  print(loss)\n",
        "  loss_square  = loss.clone();\n",
        "  for i  in range(m) :\n",
        "    loss_square[i][0] = loss_square[i][0]**2\n",
        "  print(\"MCE cost :-\", torch.sum(loss_square))\n",
        "\n",
        "\n",
        "\n",
        "  newbiase = biase[0][0] - (alpha*(1/m))*torch.sum(loss)\n",
        "  \n",
        "  print(\"Theta 0  :- \",newbiase)\n",
        "  #print( inputs[  :  , 2 : 3])\n",
        "  for i in range(weights_size) :\n",
        "    weights[i] = weights[i] - (alpha*(1/m))*torch.sum(inputs[:,i:i+1]*loss)\n",
        "\n",
        "  for i in range(biase_size) :\n",
        "    biase[i][0] = newbiase\n",
        "  print(\"New Values of Theta from 1 to \", weights_size, \" :-\\n\" ,weights)"
      ],
      "metadata": {
        "colab": {
          "base_uri": "https://localhost:8080/"
        },
        "id": "c8wnYjTbPmnZ",
        "outputId": "30364944-6153-4ebd-cf5b-ae53c410dbba"
      },
      "execution_count": null,
      "outputs": [
        {
          "output_type": "stream",
          "name": "stdout",
          "text": [
            "tensor([[1.],\n",
            "        [1.],\n",
            "        [1.]])\n",
            "\n",
            "\n",
            "no of count :-  0 \n",
            "\n",
            "tensor([[1.],\n",
            "        [1.],\n",
            "        [1.]])\n",
            "tensor([[0.5000],\n",
            "        [0.5000],\n",
            "        [0.5000],\n",
            "        [0.5000],\n",
            "        [0.5000]])\n",
            "tensor([[183.5000],\n",
            "        [243.5000],\n",
            "        [279.5000],\n",
            "        [182.5000],\n",
            "        [235.5000]])\n",
            "tensor([[127.5000],\n",
            "        [162.5000],\n",
            "        [160.5000],\n",
            "        [160.5000],\n",
            "        [132.5000]])\n",
            "MCE cost :- tensor(111739.2500)\n",
            "Theta 0  :-  tensor(-0.9870)\n",
            "New Values of Theta from 1 to  3  :-\n",
            " tensor([[-126.1440],\n",
            "        [-126.9420],\n",
            "        [ -79.8100]])\n",
            "\n",
            "\n",
            "no of count :-  1 \n",
            "\n",
            "tensor([[-126.1440],\n",
            "        [-126.9420],\n",
            "        [ -79.8100]])\n",
            "tensor([[-0.9870],\n",
            "        [-0.9870],\n",
            "        [-0.9870],\n",
            "        [-0.9870],\n",
            "        [-0.9870]])\n",
            "tensor([[-21146.4434],\n",
            "        [-27758.8262],\n",
            "        [-32614.7246],\n",
            "        [-21279.1523],\n",
            "        [-26478.0566]])\n",
            "tensor([[-21202.4434],\n",
            "        [-27839.8262],\n",
            "        [-32733.7246],\n",
            "        [-21301.1523],\n",
            "        [-26581.0566]])\n",
            "MCE cost :- tensor(3.4564e+09)\n",
            "Theta 0  :-  tensor(258.3294)\n",
            "New Values of Theta from 1 to  3  :-\n",
            " tensor([[21745.5527],\n",
            "        [23322.0977],\n",
            "        [14401.8438]])\n",
            "\n",
            "\n",
            "no of count :-  2 \n",
            "\n",
            "tensor([[21745.5527],\n",
            "        [23322.0977],\n",
            "        [14401.8438]])\n",
            "tensor([[258.3294],\n",
            "        [258.3294],\n",
            "        [258.3294],\n",
            "        [258.3294],\n",
            "        [258.3294]])\n",
            "tensor([[3769543.5000],\n",
            "        [4953166.5000],\n",
            "        [5852589.5000],\n",
            "        [3754023.2500],\n",
            "        [4747752.0000]])\n",
            "tensor([[3769487.5000],\n",
            "        [4953085.5000],\n",
            "        [5852470.5000],\n",
            "        [3754001.2500],\n",
            "        [4747649.0000]])\n",
            "MCE cost :- tensor(1.0963e+14)\n",
            "Theta 0  :-  tensor(-45895.0625)\n",
            "New Values of Theta from 1 to  3  :-\n",
            " tensor([[-3869383.0000],\n",
            "        [-4156387.5000],\n",
            "        [-2565122.7500]])\n"
          ]
        }
      ]
    },
    {
      "cell_type": "code",
      "source": [
        "#Example given In Lab\n",
        "\n",
        "import numpy as np\n",
        "import torch\n",
        "\n",
        "# Input (temp, rainfall, humidity)\n",
        "inputs = np.array([[20,24],\n",
        "[21, 25],], dtype='float32')\n",
        "# Target (apples)\n",
        "targets = np.array([[40],\n",
        "[50]], dtype='float32')\n",
        "\n",
        "biase_size = 2\n",
        "weights_size = 2 # features\n",
        "m = 2\n",
        "alpha = 0.5\n",
        "\n",
        "inputs = torch.tensor(inputs)\n",
        "targets = torch.tensor(targets)\n",
        "weights = torch.tensor(np.full((weights_size, 1), 1, dtype='float32'))\n",
        "print(weights)\n",
        "\n",
        "biase = torch.tensor( np.full((biase_size, 1), 0.5, dtype='float32'))\n",
        "\n",
        "for j in range(3) :\n",
        "  print(\"\\n\\nno of count :- \",j,\"\\n\")\n",
        "  print(weights)\n",
        "  print(biase)\n",
        "  second  = torch.matmul(inputs,weights)\n",
        "  calculated  = biase+second\n",
        "  print(calculated)\n",
        "\n",
        "\n",
        "  loss = calculated - targets;\n",
        "  print(loss)\n",
        "  loss_square  = loss.clone();\n",
        "  for i  in range(m) :\n",
        "    loss_square[i][0] = loss_square[i][0]**2\n",
        "  print(\"MCE cost :-\", torch.sum(loss_square))\n",
        "\n",
        "\n",
        "\n",
        "  newbiase = biase[0][0] - (alpha*(1/m))*torch.sum(loss)\n",
        "  print(\"Theta 0  :- \",newbiase)\n",
        "  #print( inputs[  :  , 2 : 3])\n",
        "  for i in range(weights_size) :\n",
        "    weights[i] = weights[i] - (alpha*(1/m))*torch.sum(inputs[:,i:i+1]*loss)\n",
        "\n",
        "  for i in range(biase_size) :\n",
        "    biase[i][0] = newbiase\n",
        "  print(\"New Values of Theta from 1 to \", weights_size, \" :-\\n\" ,weights)"
      ],
      "metadata": {
        "colab": {
          "base_uri": "https://localhost:8080/"
        },
        "id": "3_AjK1vYRe5y",
        "outputId": "57a4599c-a891-463a-d9c2-e42889e3199c"
      },
      "execution_count": null,
      "outputs": [
        {
          "output_type": "stream",
          "name": "stdout",
          "text": [
            "tensor([[1.],\n",
            "        [1.]])\n",
            "\n",
            "\n",
            "no of count :-  0 \n",
            "\n",
            "tensor([[1.],\n",
            "        [1.]])\n",
            "tensor([[0.5000],\n",
            "        [0.5000]])\n",
            "tensor([[44.5000],\n",
            "        [46.5000]])\n",
            "tensor([[ 4.5000],\n",
            "        [-3.5000]])\n",
            "MCE cost :- tensor(32.5000)\n",
            "Theta 0  :-  tensor(0.2500)\n",
            "New Values of Theta from 1 to  2  :-\n",
            " tensor([[-3.1250],\n",
            "        [-4.1250]])\n",
            "\n",
            "\n",
            "no of count :-  1 \n",
            "\n",
            "tensor([[-3.1250],\n",
            "        [-4.1250]])\n",
            "tensor([[0.2500],\n",
            "        [0.2500]])\n",
            "tensor([[-161.2500],\n",
            "        [-168.5000]])\n",
            "tensor([[-201.2500],\n",
            "        [-218.5000]])\n",
            "MCE cost :- tensor(88243.8125)\n",
            "Theta 0  :-  tensor(105.1875)\n",
            "New Values of Theta from 1 to  2  :-\n",
            " tensor([[2150.2500],\n",
            "        [2569.0000]])\n",
            "\n",
            "\n",
            "no of count :-  2 \n",
            "\n",
            "tensor([[2150.2500],\n",
            "        [2569.0000]])\n",
            "tensor([[105.1875],\n",
            "        [105.1875]])\n",
            "tensor([[104766.1875],\n",
            "        [109485.4375]])\n",
            "tensor([[104726.1875],\n",
            "        [109435.4375]])\n",
            "MCE cost :- tensor(2.2944e+10)\n",
            "Theta 0  :-  tensor(-53435.2188)\n",
            "New Values of Theta from 1 to  2  :-\n",
            " tensor([[-1096016.7500],\n",
            "        [-1309759.6250]])\n"
          ]
        }
      ]
    },
    {
      "cell_type": "code",
      "source": [],
      "metadata": {
        "id": "JwBq7UUHSpMA"
      },
      "execution_count": null,
      "outputs": []
    }
  ]
}